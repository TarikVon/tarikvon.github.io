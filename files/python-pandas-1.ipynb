{
 "cells": [
  {
   "cell_type": "markdown",
   "id": "b62dbeb0",
   "metadata": {},
   "source": [
    "# 介绍\n",
    "\n",
    "在本微课程中，您将全面了解 **[pandas](https://pandas.pydata.org)**，这是最受欢迎的数据分析 Python 库。\n",
    "\n",
    "\n",
    "在本教程中，您将学习如何创建自己的数据，以及如何处理现有数据。\n",
    "\n",
    "# 入门\n",
    "\n",
    "要使用 pandas，您通常会从以下代码行开始："
   ]
  },
  {
   "cell_type": "code",
   "execution_count": 1,
   "id": "66e0042c",
   "metadata": {
    "execution": {
     "iopub.execute_input": "2023-04-21T13:40:08.731136Z",
     "iopub.status.busy": "2023-04-21T13:40:08.730734Z",
     "iopub.status.idle": "2023-04-21T13:40:08.739914Z",
     "shell.execute_reply": "2023-04-21T13:40:08.738900Z"
    },
    "papermill": {
     "duration": 0.018085,
     "end_time": "2023-04-21T13:40:08.742058",
     "exception": false,
     "start_time": "2023-04-21T13:40:08.723973",
     "status": "completed"
    },
    "tags": []
   },
   "outputs": [],
   "source": [
    "import pandas as pd"
   ]
  },
  {
   "cell_type": "markdown",
   "id": "aa260423",
   "metadata": {
    "papermill": {
     "duration": 0.00446,
     "end_time": "2023-04-21T13:40:08.751407",
     "exception": false,
     "start_time": "2023-04-21T13:40:08.746947",
     "status": "completed"
    },
    "tags": []
   },
   "source": [
    "# 创建数据\n",
    "\n",
    "在 Pandas 库中有两个核心对象：**DataFrame** 和 **Series**。\n",
    "\n",
    "### DataFrame\n",
    "\n",
    "**DataFrame** 是一个表格。它包含一个个体 _entries_ 的数组，每个条目具有特定的 _value_。每个条目对应于一个行（或 _record_）和一个 _column_。\n",
    "\n",
    "例如，考虑以下简单的 DataFrame："
   ]
  },
  {
   "cell_type": "code",
   "execution_count": 2,
   "id": "a43cd7e8",
   "metadata": {
    "execution": {
     "iopub.execute_input": "2023-04-21T13:40:08.763170Z",
     "iopub.status.busy": "2023-04-21T13:40:08.762145Z",
     "iopub.status.idle": "2023-04-21T13:40:08.788548Z",
     "shell.execute_reply": "2023-04-21T13:40:08.787324Z"
    },
    "papermill": {
     "duration": 0.035066,
     "end_time": "2023-04-21T13:40:08.791119",
     "exception": false,
     "start_time": "2023-04-21T13:40:08.756053",
     "status": "completed"
    },
    "tags": []
   },
   "outputs": [
    {
     "data": {
      "text/html": [
       "<div>\n",
       "<style scoped>\n",
       "    .dataframe tbody tr th:only-of-type {\n",
       "        vertical-align: middle;\n",
       "    }\n",
       "\n",
       "    .dataframe tbody tr th {\n",
       "        vertical-align: top;\n",
       "    }\n",
       "\n",
       "    .dataframe thead th {\n",
       "        text-align: right;\n",
       "    }\n",
       "</style>\n",
       "<table border=\"1\" class=\"dataframe\">\n",
       "  <thead>\n",
       "    <tr style=\"text-align: right;\">\n",
       "      <th></th>\n",
       "      <th>Yes</th>\n",
       "      <th>No</th>\n",
       "    </tr>\n",
       "  </thead>\n",
       "  <tbody>\n",
       "    <tr>\n",
       "      <th>0</th>\n",
       "      <td>50</td>\n",
       "      <td>131</td>\n",
       "    </tr>\n",
       "    <tr>\n",
       "      <th>1</th>\n",
       "      <td>21</td>\n",
       "      <td>2</td>\n",
       "    </tr>\n",
       "  </tbody>\n",
       "</table>\n",
       "</div>"
      ],
      "text/plain": [
       "   Yes   No\n",
       "0   50  131\n",
       "1   21    2"
      ]
     },
     "execution_count": 2,
     "metadata": {},
     "output_type": "execute_result"
    }
   ],
   "source": [
    "pd.DataFrame({'Yes': [50, 21], 'No': [131, 2]})"
   ]
  },
  {
   "cell_type": "markdown",
   "id": "5b9e8026",
   "metadata": {
    "papermill": {
     "duration": 0.005021,
     "end_time": "2023-04-21T13:40:08.801541",
     "exception": false,
     "start_time": "2023-04-21T13:40:08.796520",
     "status": "completed"
    },
    "tags": []
   },
   "source": [
    "在这个例子中，“0, No” 条目的值为 131。 “0, Yes” 条目的值为 50，依此类推。\n",
    "\n",
    "DataFrame 条目不限于整数。例如，这是一个值为字符串的 DataFrame："
   ]
  },
  {
   "cell_type": "code",
   "execution_count": 3,
   "id": "ad04858e",
   "metadata": {
    "execution": {
     "iopub.execute_input": "2023-04-21T13:40:08.814328Z",
     "iopub.status.busy": "2023-04-21T13:40:08.813599Z",
     "iopub.status.idle": "2023-04-21T13:40:08.826851Z",
     "shell.execute_reply": "2023-04-21T13:40:08.825838Z"
    },
    "papermill": {
     "duration": 0.022315,
     "end_time": "2023-04-21T13:40:08.829133",
     "exception": false,
     "start_time": "2023-04-21T13:40:08.806818",
     "status": "completed"
    },
    "tags": []
   },
   "outputs": [
    {
     "data": {
      "text/html": [
       "<div>\n",
       "<style scoped>\n",
       "    .dataframe tbody tr th:only-of-type {\n",
       "        vertical-align: middle;\n",
       "    }\n",
       "\n",
       "    .dataframe tbody tr th {\n",
       "        vertical-align: top;\n",
       "    }\n",
       "\n",
       "    .dataframe thead th {\n",
       "        text-align: right;\n",
       "    }\n",
       "</style>\n",
       "<table border=\"1\" class=\"dataframe\">\n",
       "  <thead>\n",
       "    <tr style=\"text-align: right;\">\n",
       "      <th></th>\n",
       "      <th>Bob</th>\n",
       "      <th>Sue</th>\n",
       "    </tr>\n",
       "  </thead>\n",
       "  <tbody>\n",
       "    <tr>\n",
       "      <th>0</th>\n",
       "      <td>I liked it.</td>\n",
       "      <td>Pretty good.</td>\n",
       "    </tr>\n",
       "    <tr>\n",
       "      <th>1</th>\n",
       "      <td>It was awful.</td>\n",
       "      <td>Bland.</td>\n",
       "    </tr>\n",
       "  </tbody>\n",
       "</table>\n",
       "</div>"
      ],
      "text/plain": [
       "             Bob           Sue\n",
       "0    I liked it.  Pretty good.\n",
       "1  It was awful.        Bland."
      ]
     },
     "execution_count": 3,
     "metadata": {},
     "output_type": "execute_result"
    }
   ],
   "source": [
    "pd.DataFrame({'Bob': ['I liked it.', 'It was awful.'], 'Sue': ['Pretty good.', 'Bland.']})"
   ]
  },
  {
   "cell_type": "markdown",
   "id": "34c011cb",
   "metadata": {
    "papermill": {
     "duration": 0.005201,
     "end_time": "2023-04-21T13:40:08.839966",
     "exception": false,
     "start_time": "2023-04-21T13:40:08.834765",
     "status": "completed"
    },
    "tags": []
   },
   "source": [
    "我们使用 `pd.DataFrame()` 构造函数来生成这些 DataFrame 对象。声明新对象的语法是一个字典，其键是列名（在这个例子中是 `Bob` 和 `Sue`），值是条目的列表。这是构造新 DataFrame 的标准方式，也是你最有可能遇到的方式。"
   ]
  },
  {
   "cell_type": "markdown",
   "id": "61020d3d",
   "metadata": {
    "papermill": {
     "duration": 0.005109,
     "end_time": "2023-04-21T13:40:08.850634",
     "exception": false,
     "start_time": "2023-04-21T13:40:08.845525",
     "status": "completed"
    },
    "tags": []
   },
   "source": [
    "字典列表构造器为 *column labels* 赋值，但对于 *row labels* 只是使用从 0 开始的递增计数（0, 1, 2, 3, ...）。有时这是可以的，但通常我们会想要自己指定这些标签。\n",
    "\n",
    "DataFrame 中使用的 *row labels* 列表被称为 **Index**。我们可以通过在构造函数中使用 `index` 参数来为其赋值："
   ]
  },
  {
   "cell_type": "code",
   "execution_count": 4,
   "id": "3c2b6da3",
   "metadata": {
    "execution": {
     "iopub.execute_input": "2023-04-21T13:40:08.863916Z",
     "iopub.status.busy": "2023-04-21T13:40:08.863068Z",
     "iopub.status.idle": "2023-04-21T13:40:08.874800Z",
     "shell.execute_reply": "2023-04-21T13:40:08.873325Z"
    },
    "papermill": {
     "duration": 0.021602,
     "end_time": "2023-04-21T13:40:08.877633",
     "exception": false,
     "start_time": "2023-04-21T13:40:08.856031",
     "status": "completed"
    },
    "tags": []
   },
   "outputs": [
    {
     "data": {
      "text/html": [
       "<div>\n",
       "<style scoped>\n",
       "    .dataframe tbody tr th:only-of-type {\n",
       "        vertical-align: middle;\n",
       "    }\n",
       "\n",
       "    .dataframe tbody tr th {\n",
       "        vertical-align: top;\n",
       "    }\n",
       "\n",
       "    .dataframe thead th {\n",
       "        text-align: right;\n",
       "    }\n",
       "</style>\n",
       "<table border=\"1\" class=\"dataframe\">\n",
       "  <thead>\n",
       "    <tr style=\"text-align: right;\">\n",
       "      <th></th>\n",
       "      <th>Bob</th>\n",
       "      <th>Sue</th>\n",
       "    </tr>\n",
       "  </thead>\n",
       "  <tbody>\n",
       "    <tr>\n",
       "      <th>Product A</th>\n",
       "      <td>I liked it.</td>\n",
       "      <td>Pretty good.</td>\n",
       "    </tr>\n",
       "    <tr>\n",
       "      <th>Product B</th>\n",
       "      <td>It was awful.</td>\n",
       "      <td>Bland.</td>\n",
       "    </tr>\n",
       "  </tbody>\n",
       "</table>\n",
       "</div>"
      ],
      "text/plain": [
       "                     Bob           Sue\n",
       "Product A    I liked it.  Pretty good.\n",
       "Product B  It was awful.        Bland."
      ]
     },
     "execution_count": 4,
     "metadata": {},
     "output_type": "execute_result"
    }
   ],
   "source": [
    "pd.DataFrame({'Bob': ['I liked it.', 'It was awful.'], \n",
    "              'Sue': ['Pretty good.', 'Bland.']},\n",
    "             index=['Product A', 'Product B'])"
   ]
  },
  {
   "cell_type": "markdown",
   "id": "ed6b7395",
   "metadata": {
    "papermill": {
     "duration": 0.005302,
     "end_time": "2023-04-21T13:40:08.888593",
     "exception": false,
     "start_time": "2023-04-21T13:40:08.883291",
     "status": "completed"
    },
    "tags": []
   },
   "source": [
    "### Series\n",
    "\n",
    "相比之下，Series 是一系列数据值。如果 DataFrame 是一个表格，那么 Series 就是一个列表。事实上，您可以仅仅使用一个列表来创建 Series："
   ]
  },
  {
   "cell_type": "code",
   "execution_count": 5,
   "id": "3c6fa9cc",
   "metadata": {
    "execution": {
     "iopub.execute_input": "2023-04-21T13:40:08.901655Z",
     "iopub.status.busy": "2023-04-21T13:40:08.901216Z",
     "iopub.status.idle": "2023-04-21T13:40:08.910414Z",
     "shell.execute_reply": "2023-04-21T13:40:08.909036Z"
    },
    "papermill": {
     "duration": 0.018908,
     "end_time": "2023-04-21T13:40:08.913184",
     "exception": false,
     "start_time": "2023-04-21T13:40:08.894276",
     "status": "completed"
    },
    "tags": []
   },
   "outputs": [
    {
     "data": {
      "text/plain": [
       "0    1\n",
       "1    2\n",
       "2    3\n",
       "3    4\n",
       "4    5\n",
       "dtype: int64"
      ]
     },
     "execution_count": 5,
     "metadata": {},
     "output_type": "execute_result"
    }
   ],
   "source": [
    "pd.Series([1, 2, 3, 4, 5])"
   ]
  },
  {
   "cell_type": "markdown",
   "id": "d0c8d0f5",
   "metadata": {
    "papermill": {
     "duration": 0.006666,
     "end_time": "2023-04-21T13:40:08.925731",
     "exception": false,
     "start_time": "2023-04-21T13:40:08.919065",
     "status": "completed"
    },
    "tags": []
   },
   "source": [
    "Series 本质上是 DataFrame 的单个列。因此，您可以使用与之前相同的方式为 Series 分配行标签，使用一个 `index` 参数。然而，Series 没有列名，它只有一个总体的 `name`："
   ]
  },
  {
   "cell_type": "code",
   "execution_count": 6,
   "id": "a3a5d574",
   "metadata": {
    "execution": {
     "iopub.execute_input": "2023-04-21T13:40:08.939584Z",
     "iopub.status.busy": "2023-04-21T13:40:08.938663Z",
     "iopub.status.idle": "2023-04-21T13:40:08.948622Z",
     "shell.execute_reply": "2023-04-21T13:40:08.947335Z"
    },
    "papermill": {
     "duration": 0.019619,
     "end_time": "2023-04-21T13:40:08.951063",
     "exception": false,
     "start_time": "2023-04-21T13:40:08.931444",
     "status": "completed"
    },
    "tags": []
   },
   "outputs": [
    {
     "data": {
      "text/plain": [
       "2015 Sales    30\n",
       "2016 Sales    35\n",
       "2017 Sales    40\n",
       "Name: Product A, dtype: int64"
      ]
     },
     "execution_count": 6,
     "metadata": {},
     "output_type": "execute_result"
    }
   ],
   "source": [
    "pd.Series([30, 35, 40], index=['2015 Sales', '2016 Sales', '2017 Sales'], name='Product A')"
   ]
  },
  {
   "cell_type": "markdown",
   "id": "0ed913d1",
   "metadata": {
    "papermill": {
     "duration": 0.00553,
     "end_time": "2023-04-21T13:40:08.962622",
     "exception": false,
     "start_time": "2023-04-21T13:40:08.957092",
     "status": "completed"
    },
    "tags": []
   },
   "source": [
    "Series 和 DataFrame 密切相关。将 DataFrame 视为实际上只是一堆“粘在一起”的 Series 是很有帮助的。在本教程的下一节中我们会更多地了解这一点。"
   ]
  },
  {
   "cell_type": "markdown",
   "id": "45a77911",
   "metadata": {
    "papermill": {
     "duration": 0.005623,
     "end_time": "2023-04-21T13:40:08.974708",
     "exception": false,
     "start_time": "2023-04-21T13:40:08.969085",
     "status": "completed"
    },
    "tags": []
   },
   "source": [
    "# 读取数据文件\n",
    "\n",
    "能够手动创建 DataFrame 或 Series 是很方便的。但是，大多数情况下，我们实际上不会手动创建自己的数据。相反，我们将使用已经存在的数据。\n",
    "\n",
    "数据可以以多种不同的形式和格式存储。其中最基本的是简单的 CSV 文件。当您打开一个 CSV 文件时，您会得到类似于这样的东西：\n",
    "\n",
    "```\n",
    "Product A,Product B,Product C,\n",
    "30,21,9,\n",
    "35,34,1,\n",
    "41,11,11\n",
    "```\n",
    "\n",
    "因此，CSV 文件是由逗号分隔的值组成的表格。因此得名：“逗号分隔值”，或 CSV。\n",
    "\n",
    "现在让我们暂时放下我们的玩具数据集，看看当我们将实际数据读入 DataFrame 时，它是什么样子。我们将使用 `pd.read_csv()` 函数将数据读入 DataFrame。操作如下："
   ]
  },
  {
   "cell_type": "code",
   "execution_count": 7,
   "id": "c86030f1",
   "metadata": {
    "execution": {
     "iopub.execute_input": "2023-04-21T13:40:08.988555Z",
     "iopub.status.busy": "2023-04-21T13:40:08.988038Z",
     "iopub.status.idle": "2023-04-21T13:40:10.590656Z",
     "shell.execute_reply": "2023-04-21T13:40:10.589007Z"
    },
    "papermill": {
     "duration": 1.612932,
     "end_time": "2023-04-21T13:40:10.593645",
     "exception": false,
     "start_time": "2023-04-21T13:40:08.980713",
     "status": "completed"
    },
    "tags": []
   },
   "outputs": [],
   "source": [
    "wine_reviews = pd.read_csv(\"../input/wine-reviews/winemag-data-130k-v2.csv\")"
   ]
  },
  {
   "cell_type": "markdown",
   "id": "0dabb6aa",
   "metadata": {
    "papermill": {
     "duration": 0.005663,
     "end_time": "2023-04-21T13:40:10.605288",
     "exception": false,
     "start_time": "2023-04-21T13:40:10.599625",
     "status": "completed"
    },
    "tags": []
   },
   "source": [
    "我们可以使用 `shape` 属性来检查生成的 DataFrame 的大小："
   ]
  },
  {
   "cell_type": "code",
   "execution_count": 8,
   "id": "801911da",
   "metadata": {
    "execution": {
     "iopub.execute_input": "2023-04-21T13:40:10.618796Z",
     "iopub.status.busy": "2023-04-21T13:40:10.618336Z",
     "iopub.status.idle": "2023-04-21T13:40:10.625325Z",
     "shell.execute_reply": "2023-04-21T13:40:10.624279Z"
    },
    "papermill": {
     "duration": 0.016717,
     "end_time": "2023-04-21T13:40:10.627864",
     "exception": false,
     "start_time": "2023-04-21T13:40:10.611147",
     "status": "completed"
    },
    "scrolled": false,
    "tags": []
   },
   "outputs": [
    {
     "data": {
      "text/plain": [
       "(129971, 14)"
      ]
     },
     "execution_count": 8,
     "metadata": {},
     "output_type": "execute_result"
    }
   ],
   "source": [
    "wine_reviews.shape"
   ]
  },
  {
   "cell_type": "markdown",
   "id": "1562b879",
   "metadata": {
    "papermill": {
     "duration": 0.005993,
     "end_time": "2023-04-21T13:40:10.639923",
     "exception": false,
     "start_time": "2023-04-21T13:40:10.633930",
     "status": "completed"
    },
    "tags": []
   },
   "source": [
    "因此，我们的新 DataFrame 有 130,000 条记录，分布在 14 个不同的列中。这几乎是 200 万个条目！\n",
    "\n",
    "我们可以使用 `head()` 命令来检查生成的 DataFrame 的内容，该命令获取前五行："
   ]
  },
  {
   "cell_type": "code",
   "execution_count": 9,
   "id": "e72d9b78",
   "metadata": {
    "execution": {
     "iopub.execute_input": "2023-04-21T13:40:10.654008Z",
     "iopub.status.busy": "2023-04-21T13:40:10.653153Z",
     "iopub.status.idle": "2023-04-21T13:40:10.671419Z",
     "shell.execute_reply": "2023-04-21T13:40:10.670549Z"
    },
    "papermill": {
     "duration": 0.027879,
     "end_time": "2023-04-21T13:40:10.673837",
     "exception": false,
     "start_time": "2023-04-21T13:40:10.645958",
     "status": "completed"
    },
    "tags": []
   },
   "outputs": [
    {
     "data": {
      "text/html": [
       "<div>\n",
       "<style scoped>\n",
       "    .dataframe tbody tr th:only-of-type {\n",
       "        vertical-align: middle;\n",
       "    }\n",
       "\n",
       "    .dataframe tbody tr th {\n",
       "        vertical-align: top;\n",
       "    }\n",
       "\n",
       "    .dataframe thead th {\n",
       "        text-align: right;\n",
       "    }\n",
       "</style>\n",
       "<table border=\"1\" class=\"dataframe\">\n",
       "  <thead>\n",
       "    <tr style=\"text-align: right;\">\n",
       "      <th></th>\n",
       "      <th>Unnamed: 0</th>\n",
       "      <th>country</th>\n",
       "      <th>description</th>\n",
       "      <th>designation</th>\n",
       "      <th>points</th>\n",
       "      <th>price</th>\n",
       "      <th>province</th>\n",
       "      <th>region_1</th>\n",
       "      <th>region_2</th>\n",
       "      <th>taster_name</th>\n",
       "      <th>taster_twitter_handle</th>\n",
       "      <th>title</th>\n",
       "      <th>variety</th>\n",
       "      <th>winery</th>\n",
       "    </tr>\n",
       "  </thead>\n",
       "  <tbody>\n",
       "    <tr>\n",
       "      <th>0</th>\n",
       "      <td>0</td>\n",
       "      <td>Italy</td>\n",
       "      <td>Aromas include tropical fruit, broom, brimston...</td>\n",
       "      <td>Vulkà Bianco</td>\n",
       "      <td>87</td>\n",
       "      <td>NaN</td>\n",
       "      <td>Sicily &amp; Sardinia</td>\n",
       "      <td>Etna</td>\n",
       "      <td>NaN</td>\n",
       "      <td>Kerin O’Keefe</td>\n",
       "      <td>@kerinokeefe</td>\n",
       "      <td>Nicosia 2013 Vulkà Bianco  (Etna)</td>\n",
       "      <td>White Blend</td>\n",
       "      <td>Nicosia</td>\n",
       "    </tr>\n",
       "    <tr>\n",
       "      <th>1</th>\n",
       "      <td>1</td>\n",
       "      <td>Portugal</td>\n",
       "      <td>This is ripe and fruity, a wine that is smooth...</td>\n",
       "      <td>Avidagos</td>\n",
       "      <td>87</td>\n",
       "      <td>15.0</td>\n",
       "      <td>Douro</td>\n",
       "      <td>NaN</td>\n",
       "      <td>NaN</td>\n",
       "      <td>Roger Voss</td>\n",
       "      <td>@vossroger</td>\n",
       "      <td>Quinta dos Avidagos 2011 Avidagos Red (Douro)</td>\n",
       "      <td>Portuguese Red</td>\n",
       "      <td>Quinta dos Avidagos</td>\n",
       "    </tr>\n",
       "    <tr>\n",
       "      <th>2</th>\n",
       "      <td>2</td>\n",
       "      <td>US</td>\n",
       "      <td>Tart and snappy, the flavors of lime flesh and...</td>\n",
       "      <td>NaN</td>\n",
       "      <td>87</td>\n",
       "      <td>14.0</td>\n",
       "      <td>Oregon</td>\n",
       "      <td>Willamette Valley</td>\n",
       "      <td>Willamette Valley</td>\n",
       "      <td>Paul Gregutt</td>\n",
       "      <td>@paulgwine</td>\n",
       "      <td>Rainstorm 2013 Pinot Gris (Willamette Valley)</td>\n",
       "      <td>Pinot Gris</td>\n",
       "      <td>Rainstorm</td>\n",
       "    </tr>\n",
       "    <tr>\n",
       "      <th>3</th>\n",
       "      <td>3</td>\n",
       "      <td>US</td>\n",
       "      <td>Pineapple rind, lemon pith and orange blossom ...</td>\n",
       "      <td>Reserve Late Harvest</td>\n",
       "      <td>87</td>\n",
       "      <td>13.0</td>\n",
       "      <td>Michigan</td>\n",
       "      <td>Lake Michigan Shore</td>\n",
       "      <td>NaN</td>\n",
       "      <td>Alexander Peartree</td>\n",
       "      <td>NaN</td>\n",
       "      <td>St. Julian 2013 Reserve Late Harvest Riesling ...</td>\n",
       "      <td>Riesling</td>\n",
       "      <td>St. Julian</td>\n",
       "    </tr>\n",
       "    <tr>\n",
       "      <th>4</th>\n",
       "      <td>4</td>\n",
       "      <td>US</td>\n",
       "      <td>Much like the regular bottling from 2012, this...</td>\n",
       "      <td>Vintner's Reserve Wild Child Block</td>\n",
       "      <td>87</td>\n",
       "      <td>65.0</td>\n",
       "      <td>Oregon</td>\n",
       "      <td>Willamette Valley</td>\n",
       "      <td>Willamette Valley</td>\n",
       "      <td>Paul Gregutt</td>\n",
       "      <td>@paulgwine</td>\n",
       "      <td>Sweet Cheeks 2012 Vintner's Reserve Wild Child...</td>\n",
       "      <td>Pinot Noir</td>\n",
       "      <td>Sweet Cheeks</td>\n",
       "    </tr>\n",
       "  </tbody>\n",
       "</table>\n",
       "</div>"
      ],
      "text/plain": [
       "   Unnamed: 0   country                                        description  \\\n",
       "0           0     Italy  Aromas include tropical fruit, broom, brimston...   \n",
       "1           1  Portugal  This is ripe and fruity, a wine that is smooth...   \n",
       "2           2        US  Tart and snappy, the flavors of lime flesh and...   \n",
       "3           3        US  Pineapple rind, lemon pith and orange blossom ...   \n",
       "4           4        US  Much like the regular bottling from 2012, this...   \n",
       "\n",
       "                          designation  points  price           province  \\\n",
       "0                        Vulkà Bianco      87    NaN  Sicily & Sardinia   \n",
       "1                            Avidagos      87   15.0              Douro   \n",
       "2                                 NaN      87   14.0             Oregon   \n",
       "3                Reserve Late Harvest      87   13.0           Michigan   \n",
       "4  Vintner's Reserve Wild Child Block      87   65.0             Oregon   \n",
       "\n",
       "              region_1           region_2         taster_name  \\\n",
       "0                 Etna                NaN       Kerin O’Keefe   \n",
       "1                  NaN                NaN          Roger Voss   \n",
       "2    Willamette Valley  Willamette Valley        Paul Gregutt   \n",
       "3  Lake Michigan Shore                NaN  Alexander Peartree   \n",
       "4    Willamette Valley  Willamette Valley        Paul Gregutt   \n",
       "\n",
       "  taster_twitter_handle                                              title  \\\n",
       "0          @kerinokeefe                  Nicosia 2013 Vulkà Bianco  (Etna)   \n",
       "1            @vossroger      Quinta dos Avidagos 2011 Avidagos Red (Douro)   \n",
       "2           @paulgwine       Rainstorm 2013 Pinot Gris (Willamette Valley)   \n",
       "3                   NaN  St. Julian 2013 Reserve Late Harvest Riesling ...   \n",
       "4           @paulgwine   Sweet Cheeks 2012 Vintner's Reserve Wild Child...   \n",
       "\n",
       "          variety               winery  \n",
       "0     White Blend              Nicosia  \n",
       "1  Portuguese Red  Quinta dos Avidagos  \n",
       "2      Pinot Gris            Rainstorm  \n",
       "3        Riesling           St. Julian  \n",
       "4      Pinot Noir         Sweet Cheeks  "
      ]
     },
     "execution_count": 9,
     "metadata": {},
     "output_type": "execute_result"
    }
   ],
   "source": [
    "wine_reviews.head()"
   ]
  },
  {
   "cell_type": "markdown",
   "id": "38cc09f2",
   "metadata": {
    "papermill": {
     "duration": 0.006528,
     "end_time": "2023-04-21T13:40:10.687098",
     "exception": false,
     "start_time": "2023-04-21T13:40:10.680570",
     "status": "completed"
    },
    "tags": []
   },
   "source": [
    "`pd.read_csv()` 函数功能强大，有超过 30 个可选参数可以指定。例如，在这个数据集中，您可以看到 CSV 文件有一个内置的索引，但 pandas 没有自动识别到。为了让 pandas 使用该列作为索引（而不是从头开始创建一个新的索引），我们可以指定一个 `index_col`。"
   ]
  },
  {
   "cell_type": "code",
   "execution_count": 10,
   "id": "b7728321",
   "metadata": {
    "execution": {
     "iopub.execute_input": "2023-04-21T13:40:10.702415Z",
     "iopub.status.busy": "2023-04-21T13:40:10.701666Z",
     "iopub.status.idle": "2023-04-21T13:40:11.725457Z",
     "shell.execute_reply": "2023-04-21T13:40:11.724266Z"
    },
    "papermill": {
     "duration": 1.034516,
     "end_time": "2023-04-21T13:40:11.728137",
     "exception": false,
     "start_time": "2023-04-21T13:40:10.693621",
     "status": "completed"
    },
    "tags": []
   },
   "outputs": [
    {
     "data": {
      "text/html": [
       "<div>\n",
       "<style scoped>\n",
       "    .dataframe tbody tr th:only-of-type {\n",
       "        vertical-align: middle;\n",
       "    }\n",
       "\n",
       "    .dataframe tbody tr th {\n",
       "        vertical-align: top;\n",
       "    }\n",
       "\n",
       "    .dataframe thead th {\n",
       "        text-align: right;\n",
       "    }\n",
       "</style>\n",
       "<table border=\"1\" class=\"dataframe\">\n",
       "  <thead>\n",
       "    <tr style=\"text-align: right;\">\n",
       "      <th></th>\n",
       "      <th>country</th>\n",
       "      <th>description</th>\n",
       "      <th>designation</th>\n",
       "      <th>points</th>\n",
       "      <th>price</th>\n",
       "      <th>province</th>\n",
       "      <th>region_1</th>\n",
       "      <th>region_2</th>\n",
       "      <th>taster_name</th>\n",
       "      <th>taster_twitter_handle</th>\n",
       "      <th>title</th>\n",
       "      <th>variety</th>\n",
       "      <th>winery</th>\n",
       "    </tr>\n",
       "  </thead>\n",
       "  <tbody>\n",
       "    <tr>\n",
       "      <th>0</th>\n",
       "      <td>Italy</td>\n",
       "      <td>Aromas include tropical fruit, broom, brimston...</td>\n",
       "      <td>Vulkà Bianco</td>\n",
       "      <td>87</td>\n",
       "      <td>NaN</td>\n",
       "      <td>Sicily &amp; Sardinia</td>\n",
       "      <td>Etna</td>\n",
       "      <td>NaN</td>\n",
       "      <td>Kerin O’Keefe</td>\n",
       "      <td>@kerinokeefe</td>\n",
       "      <td>Nicosia 2013 Vulkà Bianco  (Etna)</td>\n",
       "      <td>White Blend</td>\n",
       "      <td>Nicosia</td>\n",
       "    </tr>\n",
       "    <tr>\n",
       "      <th>1</th>\n",
       "      <td>Portugal</td>\n",
       "      <td>This is ripe and fruity, a wine that is smooth...</td>\n",
       "      <td>Avidagos</td>\n",
       "      <td>87</td>\n",
       "      <td>15.0</td>\n",
       "      <td>Douro</td>\n",
       "      <td>NaN</td>\n",
       "      <td>NaN</td>\n",
       "      <td>Roger Voss</td>\n",
       "      <td>@vossroger</td>\n",
       "      <td>Quinta dos Avidagos 2011 Avidagos Red (Douro)</td>\n",
       "      <td>Portuguese Red</td>\n",
       "      <td>Quinta dos Avidagos</td>\n",
       "    </tr>\n",
       "    <tr>\n",
       "      <th>2</th>\n",
       "      <td>US</td>\n",
       "      <td>Tart and snappy, the flavors of lime flesh and...</td>\n",
       "      <td>NaN</td>\n",
       "      <td>87</td>\n",
       "      <td>14.0</td>\n",
       "      <td>Oregon</td>\n",
       "      <td>Willamette Valley</td>\n",
       "      <td>Willamette Valley</td>\n",
       "      <td>Paul Gregutt</td>\n",
       "      <td>@paulgwine</td>\n",
       "      <td>Rainstorm 2013 Pinot Gris (Willamette Valley)</td>\n",
       "      <td>Pinot Gris</td>\n",
       "      <td>Rainstorm</td>\n",
       "    </tr>\n",
       "    <tr>\n",
       "      <th>3</th>\n",
       "      <td>US</td>\n",
       "      <td>Pineapple rind, lemon pith and orange blossom ...</td>\n",
       "      <td>Reserve Late Harvest</td>\n",
       "      <td>87</td>\n",
       "      <td>13.0</td>\n",
       "      <td>Michigan</td>\n",
       "      <td>Lake Michigan Shore</td>\n",
       "      <td>NaN</td>\n",
       "      <td>Alexander Peartree</td>\n",
       "      <td>NaN</td>\n",
       "      <td>St. Julian 2013 Reserve Late Harvest Riesling ...</td>\n",
       "      <td>Riesling</td>\n",
       "      <td>St. Julian</td>\n",
       "    </tr>\n",
       "    <tr>\n",
       "      <th>4</th>\n",
       "      <td>US</td>\n",
       "      <td>Much like the regular bottling from 2012, this...</td>\n",
       "      <td>Vintner's Reserve Wild Child Block</td>\n",
       "      <td>87</td>\n",
       "      <td>65.0</td>\n",
       "      <td>Oregon</td>\n",
       "      <td>Willamette Valley</td>\n",
       "      <td>Willamette Valley</td>\n",
       "      <td>Paul Gregutt</td>\n",
       "      <td>@paulgwine</td>\n",
       "      <td>Sweet Cheeks 2012 Vintner's Reserve Wild Child...</td>\n",
       "      <td>Pinot Noir</td>\n",
       "      <td>Sweet Cheeks</td>\n",
       "    </tr>\n",
       "  </tbody>\n",
       "</table>\n",
       "</div>"
      ],
      "text/plain": [
       "    country                                        description  \\\n",
       "0     Italy  Aromas include tropical fruit, broom, brimston...   \n",
       "1  Portugal  This is ripe and fruity, a wine that is smooth...   \n",
       "2        US  Tart and snappy, the flavors of lime flesh and...   \n",
       "3        US  Pineapple rind, lemon pith and orange blossom ...   \n",
       "4        US  Much like the regular bottling from 2012, this...   \n",
       "\n",
       "                          designation  points  price           province  \\\n",
       "0                        Vulkà Bianco      87    NaN  Sicily & Sardinia   \n",
       "1                            Avidagos      87   15.0              Douro   \n",
       "2                                 NaN      87   14.0             Oregon   \n",
       "3                Reserve Late Harvest      87   13.0           Michigan   \n",
       "4  Vintner's Reserve Wild Child Block      87   65.0             Oregon   \n",
       "\n",
       "              region_1           region_2         taster_name  \\\n",
       "0                 Etna                NaN       Kerin O’Keefe   \n",
       "1                  NaN                NaN          Roger Voss   \n",
       "2    Willamette Valley  Willamette Valley        Paul Gregutt   \n",
       "3  Lake Michigan Shore                NaN  Alexander Peartree   \n",
       "4    Willamette Valley  Willamette Valley        Paul Gregutt   \n",
       "\n",
       "  taster_twitter_handle                                              title  \\\n",
       "0          @kerinokeefe                  Nicosia 2013 Vulkà Bianco  (Etna)   \n",
       "1            @vossroger      Quinta dos Avidagos 2011 Avidagos Red (Douro)   \n",
       "2           @paulgwine       Rainstorm 2013 Pinot Gris (Willamette Valley)   \n",
       "3                   NaN  St. Julian 2013 Reserve Late Harvest Riesling ...   \n",
       "4           @paulgwine   Sweet Cheeks 2012 Vintner's Reserve Wild Child...   \n",
       "\n",
       "          variety               winery  \n",
       "0     White Blend              Nicosia  \n",
       "1  Portuguese Red  Quinta dos Avidagos  \n",
       "2      Pinot Gris            Rainstorm  \n",
       "3        Riesling           St. Julian  \n",
       "4      Pinot Noir         Sweet Cheeks  "
      ]
     },
     "execution_count": 10,
     "metadata": {},
     "output_type": "execute_result"
    }
   ],
   "source": [
    "wine_reviews = pd.read_csv(\"../input/wine-reviews/winemag-data-130k-v2.csv\", index_col=0)\n",
    "wine_reviews.head()"
   ]
  }
 ],
 "metadata": {
  "kernelspec": {
   "display_name": "Python 3",
   "language": "python",
   "name": "python3"
  },
  "language_info": {
   "codemirror_mode": {
    "name": "ipython",
    "version": 3
   },
   "file_extension": ".py",
   "mimetype": "text/x-python",
   "name": "python",
   "nbconvert_exporter": "python",
   "pygments_lexer": "ipython3",
   "version": "3.7.12"
  },
  "papermill": {
   "default_parameters": {},
   "duration": 13.898876,
   "end_time": "2023-04-21T13:40:12.484502",
   "environment_variables": {},
   "exception": null,
   "input_path": "__notebook__.ipynb",
   "output_path": "__notebook__.ipynb",
   "parameters": {},
   "start_time": "2023-04-21T13:39:58.585626",
   "version": "2.4.0"
  }
 },
 "nbformat": 4,
 "nbformat_minor": 5
}
